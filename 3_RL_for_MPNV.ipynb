{
  "nbformat": 4,
  "nbformat_minor": 0,
  "metadata": {
    "colab": {
      "provenance": [],
      "include_colab_link": true
    },
    "kernelspec": {
      "name": "python3",
      "display_name": "Python 3"
    },
    "language_info": {
      "name": "python"
    },
    "gpuClass": "standard",
    "widgets": {
      "application/vnd.jupyter.widget-state+json": {
        "ef29c224019e42f9b2e45c054cc5c533": {
          "model_module": "@jupyter-widgets/controls",
          "model_name": "HBoxModel",
          "model_module_version": "1.5.0",
          "state": {
            "_dom_classes": [],
            "_model_module": "@jupyter-widgets/controls",
            "_model_module_version": "1.5.0",
            "_model_name": "HBoxModel",
            "_view_count": null,
            "_view_module": "@jupyter-widgets/controls",
            "_view_module_version": "1.5.0",
            "_view_name": "HBoxView",
            "box_style": "",
            "children": [
              "IPY_MODEL_465f03fe7e7b417cb29334f3ce19b507",
              "IPY_MODEL_75d3924a968d47b8a3afac95806fb85e",
              "IPY_MODEL_1b0ffcfc816a46a99abc9af5538180af"
            ],
            "layout": "IPY_MODEL_de376eeda93b4d7596db6b06cfffb222"
          }
        },
        "465f03fe7e7b417cb29334f3ce19b507": {
          "model_module": "@jupyter-widgets/controls",
          "model_name": "HTMLModel",
          "model_module_version": "1.5.0",
          "state": {
            "_dom_classes": [],
            "_model_module": "@jupyter-widgets/controls",
            "_model_module_version": "1.5.0",
            "_model_name": "HTMLModel",
            "_view_count": null,
            "_view_module": "@jupyter-widgets/controls",
            "_view_module_version": "1.5.0",
            "_view_name": "HTMLView",
            "description": "",
            "description_tooltip": null,
            "layout": "IPY_MODEL_24170034d8694830801df1020d53e089",
            "placeholder": "​",
            "style": "IPY_MODEL_684285a822464c36b45ca1afdbb37eca",
            "value": "100%"
          }
        },
        "75d3924a968d47b8a3afac95806fb85e": {
          "model_module": "@jupyter-widgets/controls",
          "model_name": "FloatProgressModel",
          "model_module_version": "1.5.0",
          "state": {
            "_dom_classes": [],
            "_model_module": "@jupyter-widgets/controls",
            "_model_module_version": "1.5.0",
            "_model_name": "FloatProgressModel",
            "_view_count": null,
            "_view_module": "@jupyter-widgets/controls",
            "_view_module_version": "1.5.0",
            "_view_name": "ProgressView",
            "bar_style": "success",
            "description": "",
            "description_tooltip": null,
            "layout": "IPY_MODEL_679b5f0b08384596b451d0ddd6454f88",
            "max": 2000,
            "min": 0,
            "orientation": "horizontal",
            "style": "IPY_MODEL_55bb817df44b4c8f932871bd07ae5dae",
            "value": 2000
          }
        },
        "1b0ffcfc816a46a99abc9af5538180af": {
          "model_module": "@jupyter-widgets/controls",
          "model_name": "HTMLModel",
          "model_module_version": "1.5.0",
          "state": {
            "_dom_classes": [],
            "_model_module": "@jupyter-widgets/controls",
            "_model_module_version": "1.5.0",
            "_model_name": "HTMLModel",
            "_view_count": null,
            "_view_module": "@jupyter-widgets/controls",
            "_view_module_version": "1.5.0",
            "_view_name": "HTMLView",
            "description": "",
            "description_tooltip": null,
            "layout": "IPY_MODEL_94c370f5cf944d01887f3a6d5b3a7941",
            "placeholder": "​",
            "style": "IPY_MODEL_3bae1b449a32436885bd7bce298f241b",
            "value": " 2000/2000 [06:22&lt;00:00,  7.02it/s]"
          }
        },
        "de376eeda93b4d7596db6b06cfffb222": {
          "model_module": "@jupyter-widgets/base",
          "model_name": "LayoutModel",
          "model_module_version": "1.2.0",
          "state": {
            "_model_module": "@jupyter-widgets/base",
            "_model_module_version": "1.2.0",
            "_model_name": "LayoutModel",
            "_view_count": null,
            "_view_module": "@jupyter-widgets/base",
            "_view_module_version": "1.2.0",
            "_view_name": "LayoutView",
            "align_content": null,
            "align_items": null,
            "align_self": null,
            "border": null,
            "bottom": null,
            "display": null,
            "flex": null,
            "flex_flow": null,
            "grid_area": null,
            "grid_auto_columns": null,
            "grid_auto_flow": null,
            "grid_auto_rows": null,
            "grid_column": null,
            "grid_gap": null,
            "grid_row": null,
            "grid_template_areas": null,
            "grid_template_columns": null,
            "grid_template_rows": null,
            "height": null,
            "justify_content": null,
            "justify_items": null,
            "left": null,
            "margin": null,
            "max_height": null,
            "max_width": null,
            "min_height": null,
            "min_width": null,
            "object_fit": null,
            "object_position": null,
            "order": null,
            "overflow": null,
            "overflow_x": null,
            "overflow_y": null,
            "padding": null,
            "right": null,
            "top": null,
            "visibility": null,
            "width": null
          }
        },
        "24170034d8694830801df1020d53e089": {
          "model_module": "@jupyter-widgets/base",
          "model_name": "LayoutModel",
          "model_module_version": "1.2.0",
          "state": {
            "_model_module": "@jupyter-widgets/base",
            "_model_module_version": "1.2.0",
            "_model_name": "LayoutModel",
            "_view_count": null,
            "_view_module": "@jupyter-widgets/base",
            "_view_module_version": "1.2.0",
            "_view_name": "LayoutView",
            "align_content": null,
            "align_items": null,
            "align_self": null,
            "border": null,
            "bottom": null,
            "display": null,
            "flex": null,
            "flex_flow": null,
            "grid_area": null,
            "grid_auto_columns": null,
            "grid_auto_flow": null,
            "grid_auto_rows": null,
            "grid_column": null,
            "grid_gap": null,
            "grid_row": null,
            "grid_template_areas": null,
            "grid_template_columns": null,
            "grid_template_rows": null,
            "height": null,
            "justify_content": null,
            "justify_items": null,
            "left": null,
            "margin": null,
            "max_height": null,
            "max_width": null,
            "min_height": null,
            "min_width": null,
            "object_fit": null,
            "object_position": null,
            "order": null,
            "overflow": null,
            "overflow_x": null,
            "overflow_y": null,
            "padding": null,
            "right": null,
            "top": null,
            "visibility": null,
            "width": null
          }
        },
        "684285a822464c36b45ca1afdbb37eca": {
          "model_module": "@jupyter-widgets/controls",
          "model_name": "DescriptionStyleModel",
          "model_module_version": "1.5.0",
          "state": {
            "_model_module": "@jupyter-widgets/controls",
            "_model_module_version": "1.5.0",
            "_model_name": "DescriptionStyleModel",
            "_view_count": null,
            "_view_module": "@jupyter-widgets/base",
            "_view_module_version": "1.2.0",
            "_view_name": "StyleView",
            "description_width": ""
          }
        },
        "679b5f0b08384596b451d0ddd6454f88": {
          "model_module": "@jupyter-widgets/base",
          "model_name": "LayoutModel",
          "model_module_version": "1.2.0",
          "state": {
            "_model_module": "@jupyter-widgets/base",
            "_model_module_version": "1.2.0",
            "_model_name": "LayoutModel",
            "_view_count": null,
            "_view_module": "@jupyter-widgets/base",
            "_view_module_version": "1.2.0",
            "_view_name": "LayoutView",
            "align_content": null,
            "align_items": null,
            "align_self": null,
            "border": null,
            "bottom": null,
            "display": null,
            "flex": null,
            "flex_flow": null,
            "grid_area": null,
            "grid_auto_columns": null,
            "grid_auto_flow": null,
            "grid_auto_rows": null,
            "grid_column": null,
            "grid_gap": null,
            "grid_row": null,
            "grid_template_areas": null,
            "grid_template_columns": null,
            "grid_template_rows": null,
            "height": null,
            "justify_content": null,
            "justify_items": null,
            "left": null,
            "margin": null,
            "max_height": null,
            "max_width": null,
            "min_height": null,
            "min_width": null,
            "object_fit": null,
            "object_position": null,
            "order": null,
            "overflow": null,
            "overflow_x": null,
            "overflow_y": null,
            "padding": null,
            "right": null,
            "top": null,
            "visibility": null,
            "width": null
          }
        },
        "55bb817df44b4c8f932871bd07ae5dae": {
          "model_module": "@jupyter-widgets/controls",
          "model_name": "ProgressStyleModel",
          "model_module_version": "1.5.0",
          "state": {
            "_model_module": "@jupyter-widgets/controls",
            "_model_module_version": "1.5.0",
            "_model_name": "ProgressStyleModel",
            "_view_count": null,
            "_view_module": "@jupyter-widgets/base",
            "_view_module_version": "1.2.0",
            "_view_name": "StyleView",
            "bar_color": null,
            "description_width": ""
          }
        },
        "94c370f5cf944d01887f3a6d5b3a7941": {
          "model_module": "@jupyter-widgets/base",
          "model_name": "LayoutModel",
          "model_module_version": "1.2.0",
          "state": {
            "_model_module": "@jupyter-widgets/base",
            "_model_module_version": "1.2.0",
            "_model_name": "LayoutModel",
            "_view_count": null,
            "_view_module": "@jupyter-widgets/base",
            "_view_module_version": "1.2.0",
            "_view_name": "LayoutView",
            "align_content": null,
            "align_items": null,
            "align_self": null,
            "border": null,
            "bottom": null,
            "display": null,
            "flex": null,
            "flex_flow": null,
            "grid_area": null,
            "grid_auto_columns": null,
            "grid_auto_flow": null,
            "grid_auto_rows": null,
            "grid_column": null,
            "grid_gap": null,
            "grid_row": null,
            "grid_template_areas": null,
            "grid_template_columns": null,
            "grid_template_rows": null,
            "height": null,
            "justify_content": null,
            "justify_items": null,
            "left": null,
            "margin": null,
            "max_height": null,
            "max_width": null,
            "min_height": null,
            "min_width": null,
            "object_fit": null,
            "object_position": null,
            "order": null,
            "overflow": null,
            "overflow_x": null,
            "overflow_y": null,
            "padding": null,
            "right": null,
            "top": null,
            "visibility": null,
            "width": null
          }
        },
        "3bae1b449a32436885bd7bce298f241b": {
          "model_module": "@jupyter-widgets/controls",
          "model_name": "DescriptionStyleModel",
          "model_module_version": "1.5.0",
          "state": {
            "_model_module": "@jupyter-widgets/controls",
            "_model_module_version": "1.5.0",
            "_model_name": "DescriptionStyleModel",
            "_view_count": null,
            "_view_module": "@jupyter-widgets/base",
            "_view_module_version": "1.2.0",
            "_view_name": "StyleView",
            "description_width": ""
          }
        }
      }
    }
  },
  "cells": [
    {
      "cell_type": "markdown",
      "metadata": {
        "id": "view-in-github",
        "colab_type": "text"
      },
      "source": [
        "<a href=\"https://colab.research.google.com/github/aubaz/U-Exeter_RLforInventory/blob/main/3_RL_for_MPNV.ipynb\" target=\"_parent\"><img src=\"https://colab.research.google.com/assets/colab-badge.svg\" alt=\"Open In Colab\"/></a>"
      ]
    },
    {
      "cell_type": "markdown",
      "source": [
        "# RL for the Multi-Period Newsvendor Problem (MPNV) \n",
        "\n",
        "\n",
        "---\n",
        "> **Note:** This file is read-only. To work with it, you first need to save a copy to your Google Drive:\n",
        "> \n",
        "> 1. Go to the File menu. (The File menu inside the notebook, right below the filename—not the File menu in your browser, at the top of your screen.)\n",
        "> 2. Choose Save a copy in Drive. (Log in to your Google account, if necessary.) Feel free to move it to a different folder in your Drive, if you want.\n",
        "> 3. Colab should open up a new browser tab with your copy of the notebook. \n",
        "> 4. Close the original read-only notebook in your browser.\n",
        "---\n",
        "\n",
        "---\n",
        "> This notebook is part of the *Summer Bootcamp at Kellogg: RL in Operations* workshop at Northwestern University, August 2022. The notebooks are for Day 4, taught by Prof. Larry Snyder, Lehigh University. The full repo is at https://github.com/LarrySnyder/RLforInventory.\n",
        "---\n",
        "\n",
        "Recall from the previous notebook that the multi-period newsvendor problem (MPNV) deciding, in each time period, how much to order in advance of observing a random demand. If we begin the period with an inventory level of $s$ (this is the **state**), place an order of size $a$ (this is the **action**), and experience a demand of $d$, then the cost in the period is\n",
        "\n",
        "$$h(s+a-d)^+ + p(d-(s+a))^+.$$\n",
        "\n",
        "The **Bellman equation** for the value function $v_\\pi$ is:\n",
        "\n",
        "$$v_\\pi(s) = {\\mathbb E}_D\\left[ -\\left(h(s + a -d)^+ + p(d - (s+a))^+\\right) + \\gamma v_\\pi(s+a-D)\\right],$$\n",
        "\n",
        "where ${\\mathbb E}_D$ denotes expectation over the random demand. For the optimal policy, the **Bellman optimality equation** is:\n",
        "\n",
        "$$v_*(s) = \\max_{a\\ge 0} {\\mathbb E}_D\\left[ -\\left(h(s+a-d)^+ + p(d-(s+a))^+\\right) + \\gamma v_*(s+a-D)\\right].$$\n",
        "\n"
      ],
      "metadata": {
        "id": "mQmitR3h8t3p"
      }
    },
    {
      "cell_type": "markdown",
      "source": [
        "We'll use the simulation features in `stockpyl` package (https://pypi.org/project/stockpyl/) to build our RL environment. "
      ],
      "metadata": {
        "id": "lHVbwBxRZ1f6"
      }
    },
    {
      "cell_type": "markdown",
      "source": [
        "### Preliminary Python Stuff\n"
      ],
      "metadata": {
        "id": "XMUCsMuHnN2-"
      }
    },
    {
      "cell_type": "markdown",
      "source": [
        "First we'll install `stockpyl`. You should only need to do this once. If you get a message like\n",
        "\n",
        "```\n",
        "WARNING: The following packages were previously imported in this runtime:\n",
        "  [sphinxcontrib]\n",
        "You must restart the runtime in order to use newly installed versions.\n",
        "```\n",
        "\n",
        "you can ignore it.\n",
        "\n"
      ],
      "metadata": {
        "id": "dXIIxdUDaQF4"
      }
    },
    {
      "cell_type": "code",
      "source": [
        "!pip install stockpyl"
      ],
      "metadata": {
        "colab": {
          "base_uri": "https://localhost:8080/"
        },
        "id": "OeapNyxaaeYV",
        "outputId": "555fcd69-2d57-4494-f026-9896e9a75fb8"
      },
      "execution_count": null,
      "outputs": [
        {
          "output_type": "stream",
          "name": "stdout",
          "text": [
            "Looking in indexes: https://pypi.org/simple, https://us-python.pkg.dev/colab-wheels/public/simple/\n",
            "Collecting stockpyl\n",
            "  Downloading stockpyl-0.0.14-py3-none-any.whl (146 kB)\n",
            "\u001b[2K     \u001b[90m━━━━━━━━━━━━━━━━━━━━━━━━━━━━━━━━━━━━━━━\u001b[0m \u001b[32m146.3/146.3 kB\u001b[0m \u001b[31m3.2 MB/s\u001b[0m eta \u001b[36m0:00:00\u001b[0m\n",
            "\u001b[?25hRequirement already satisfied: networkx>=2.0 in /usr/local/lib/python3.9/dist-packages (from stockpyl) (3.1)\n",
            "Collecting sphinx==4.5.0\n",
            "  Downloading Sphinx-4.5.0-py3-none-any.whl (3.1 MB)\n",
            "\u001b[2K     \u001b[90m━━━━━━━━━━━━━━━━━━━━━━━━━━━━━━━━━━━━━━━━\u001b[0m \u001b[32m3.1/3.1 MB\u001b[0m \u001b[31m32.3 MB/s\u001b[0m eta \u001b[36m0:00:00\u001b[0m\n",
            "\u001b[?25hCollecting build>=0.0.2\n",
            "  Downloading build-0.10.0-py3-none-any.whl (17 kB)\n",
            "Requirement already satisfied: matplotlib>=2.0 in /usr/local/lib/python3.9/dist-packages (from stockpyl) (3.7.1)\n",
            "Collecting sphinx-rtd-theme>=1.0.0\n",
            "  Downloading sphinx_rtd_theme-1.2.0-py2.py3-none-any.whl (2.8 MB)\n",
            "\u001b[2K     \u001b[90m━━━━━━━━━━━━━━━━━━━━━━━━━━━━━━━━━━━━━━━━\u001b[0m \u001b[32m2.8/2.8 MB\u001b[0m \u001b[31m18.1 MB/s\u001b[0m eta \u001b[36m0:00:00\u001b[0m\n",
            "\u001b[?25hRequirement already satisfied: setuptools>=49.6 in /usr/local/lib/python3.9/dist-packages (from stockpyl) (67.6.1)\n",
            "Requirement already satisfied: tabulate>=0.8.7 in /usr/local/lib/python3.9/dist-packages (from stockpyl) (0.8.10)\n",
            "Requirement already satisfied: tqdm>=4.1.0 in /usr/local/lib/python3.9/dist-packages (from stockpyl) (4.65.0)\n",
            "Collecting sphinx-toolbox>=3.1.2\n",
            "  Downloading sphinx_toolbox-3.4.0-py3-none-any.whl (525 kB)\n",
            "\u001b[2K     \u001b[90m━━━━━━━━━━━━━━━━━━━━━━━━━━━━━━━━━━━━━━\u001b[0m \u001b[32m525.1/525.1 kB\u001b[0m \u001b[31m13.6 MB/s\u001b[0m eta \u001b[36m0:00:00\u001b[0m\n",
            "\u001b[?25hRequirement already satisfied: scipy>=1.6.0 in /usr/local/lib/python3.9/dist-packages (from stockpyl) (1.10.1)\n",
            "Requirement already satisfied: numpy>=1.21 in /usr/local/lib/python3.9/dist-packages (from stockpyl) (1.22.4)\n",
            "Requirement already satisfied: jsonpickle>=1.0 in /usr/local/lib/python3.9/dist-packages (from stockpyl) (3.0.1)\n",
            "Requirement already satisfied: sphinxcontrib-applehelp in /usr/local/lib/python3.9/dist-packages (from sphinx==4.5.0->stockpyl) (1.0.4)\n",
            "Requirement already satisfied: Jinja2>=2.3 in /usr/local/lib/python3.9/dist-packages (from sphinx==4.5.0->stockpyl) (3.1.2)\n",
            "Requirement already satisfied: sphinxcontrib-qthelp in /usr/local/lib/python3.9/dist-packages (from sphinx==4.5.0->stockpyl) (1.0.3)\n",
            "Requirement already satisfied: sphinxcontrib-htmlhelp>=2.0.0 in /usr/local/lib/python3.9/dist-packages (from sphinx==4.5.0->stockpyl) (2.0.1)\n",
            "Requirement already satisfied: importlib-metadata>=4.4 in /usr/local/lib/python3.9/dist-packages (from sphinx==4.5.0->stockpyl) (6.3.0)\n",
            "Requirement already satisfied: Pygments>=2.0 in /usr/local/lib/python3.9/dist-packages (from sphinx==4.5.0->stockpyl) (2.14.0)\n",
            "Requirement already satisfied: sphinxcontrib-jsmath in /usr/local/lib/python3.9/dist-packages (from sphinx==4.5.0->stockpyl) (1.0.1)\n",
            "Requirement already satisfied: alabaster<0.8,>=0.7 in /usr/local/lib/python3.9/dist-packages (from sphinx==4.5.0->stockpyl) (0.7.13)\n",
            "Requirement already satisfied: docutils<0.18,>=0.14 in /usr/local/lib/python3.9/dist-packages (from sphinx==4.5.0->stockpyl) (0.16)\n",
            "Requirement already satisfied: sphinxcontrib-devhelp in /usr/local/lib/python3.9/dist-packages (from sphinx==4.5.0->stockpyl) (1.0.2)\n",
            "Requirement already satisfied: sphinxcontrib-serializinghtml>=1.1.5 in /usr/local/lib/python3.9/dist-packages (from sphinx==4.5.0->stockpyl) (1.1.5)\n",
            "Requirement already satisfied: imagesize in /usr/local/lib/python3.9/dist-packages (from sphinx==4.5.0->stockpyl) (1.4.1)\n",
            "Requirement already satisfied: requests>=2.5.0 in /usr/local/lib/python3.9/dist-packages (from sphinx==4.5.0->stockpyl) (2.27.1)\n",
            "Requirement already satisfied: snowballstemmer>=1.1 in /usr/local/lib/python3.9/dist-packages (from sphinx==4.5.0->stockpyl) (2.2.0)\n",
            "Requirement already satisfied: packaging in /usr/local/lib/python3.9/dist-packages (from sphinx==4.5.0->stockpyl) (23.0)\n",
            "Requirement already satisfied: babel>=1.3 in /usr/local/lib/python3.9/dist-packages (from sphinx==4.5.0->stockpyl) (2.12.1)\n",
            "Collecting pyproject_hooks\n",
            "  Downloading pyproject_hooks-1.0.0-py3-none-any.whl (9.3 kB)\n",
            "Requirement already satisfied: tomli>=1.1.0 in /usr/local/lib/python3.9/dist-packages (from build>=0.0.2->stockpyl) (2.0.1)\n",
            "Requirement already satisfied: importlib-resources>=3.2.0 in /usr/local/lib/python3.9/dist-packages (from matplotlib>=2.0->stockpyl) (5.12.0)\n",
            "Requirement already satisfied: fonttools>=4.22.0 in /usr/local/lib/python3.9/dist-packages (from matplotlib>=2.0->stockpyl) (4.39.3)\n",
            "Requirement already satisfied: kiwisolver>=1.0.1 in /usr/local/lib/python3.9/dist-packages (from matplotlib>=2.0->stockpyl) (1.4.4)\n",
            "Requirement already satisfied: contourpy>=1.0.1 in /usr/local/lib/python3.9/dist-packages (from matplotlib>=2.0->stockpyl) (1.0.7)\n",
            "Requirement already satisfied: pillow>=6.2.0 in /usr/local/lib/python3.9/dist-packages (from matplotlib>=2.0->stockpyl) (8.4.0)\n",
            "Requirement already satisfied: python-dateutil>=2.7 in /usr/local/lib/python3.9/dist-packages (from matplotlib>=2.0->stockpyl) (2.8.2)\n",
            "Requirement already satisfied: pyparsing>=2.3.1 in /usr/local/lib/python3.9/dist-packages (from matplotlib>=2.0->stockpyl) (3.0.9)\n",
            "Requirement already satisfied: cycler>=0.10 in /usr/local/lib/python3.9/dist-packages (from matplotlib>=2.0->stockpyl) (0.11.0)\n",
            "Collecting sphinxcontrib-jquery!=3.0.0,>=2.0.0\n",
            "  Downloading sphinxcontrib_jquery-4.1-py2.py3-none-any.whl (121 kB)\n",
            "\u001b[2K     \u001b[90m━━━━━━━━━━━━━━━━━━━━━━━━━━━━━━━━━━━━━━━\u001b[0m \u001b[32m121.1/121.1 kB\u001b[0m \u001b[31m3.8 MB/s\u001b[0m eta \u001b[36m0:00:00\u001b[0m\n",
            "\u001b[?25hRequirement already satisfied: typing-extensions!=3.10.0.1,>=3.7.4.3 in /usr/local/lib/python3.9/dist-packages (from sphinx-toolbox>=3.1.2->stockpyl) (4.5.0)\n",
            "Collecting autodocsumm>=0.2.0\n",
            "  Downloading autodocsumm-0.2.10-py3-none-any.whl (14 kB)\n",
            "Collecting domdf-python-tools>=2.9.0\n",
            "  Downloading domdf_python_tools-3.6.1-py3-none-any.whl (127 kB)\n",
            "\u001b[2K     \u001b[90m━━━━━━━━━━━━━━━━━━━━━━━━━━━━━━━━━━━━━━━\u001b[0m \u001b[32m127.0/127.0 kB\u001b[0m \u001b[31m6.2 MB/s\u001b[0m eta \u001b[36m0:00:00\u001b[0m\n",
            "\u001b[?25hCollecting ruamel.yaml>=0.16.12\n",
            "  Downloading ruamel.yaml-0.17.21-py3-none-any.whl (109 kB)\n",
            "\u001b[2K     \u001b[90m━━━━━━━━━━━━━━━━━━━━━━━━━━━━━━━━━━━━━━━\u001b[0m \u001b[32m109.5/109.5 kB\u001b[0m \u001b[31m2.1 MB/s\u001b[0m eta \u001b[36m0:00:00\u001b[0m\n",
            "\u001b[?25hRequirement already satisfied: cachecontrol[filecache]>=0.12.6 in /usr/local/lib/python3.9/dist-packages (from sphinx-toolbox>=3.1.2->stockpyl) (0.12.11)\n",
            "Collecting lockfile>=0.12.2\n",
            "  Downloading lockfile-0.12.2-py2.py3-none-any.whl (13 kB)\n",
            "Collecting sphinx-autodoc-typehints>=1.11.1\n",
            "  Downloading sphinx_autodoc_typehints-1.23.0-py3-none-any.whl (17 kB)\n",
            "Collecting apeye>=0.4.0\n",
            "  Downloading apeye-1.3.0-py3-none-any.whl (107 kB)\n",
            "\u001b[2K     \u001b[90m━━━━━━━━━━━━━━━━━━━━━━━━━━━━━━━━━━━━━━━\u001b[0m \u001b[32m107.9/107.9 kB\u001b[0m \u001b[31m6.0 MB/s\u001b[0m eta \u001b[36m0:00:00\u001b[0m\n",
            "\u001b[?25hCollecting sphinx-tabs<3.5.0,>=1.2.1\n",
            "  Downloading sphinx_tabs-3.4.1-py3-none-any.whl (10.0 kB)\n",
            "Collecting sphinx-jinja2-compat>=0.1.0\n",
            "  Downloading sphinx_jinja2_compat-0.2.0-py3-none-any.whl (17 kB)\n",
            "Requirement already satisfied: html5lib>=1.1 in /usr/local/lib/python3.9/dist-packages (from sphinx-toolbox>=3.1.2->stockpyl) (1.1)\n",
            "Requirement already satisfied: beautifulsoup4>=4.9.1 in /usr/local/lib/python3.9/dist-packages (from sphinx-toolbox>=3.1.2->stockpyl) (4.11.2)\n",
            "Collecting sphinx-prompt>=1.1.0\n",
            "  Downloading sphinx_prompt-1.6.0-py3-none-any.whl (5.2 kB)\n",
            "Collecting dict2css>=0.2.3\n",
            "  Downloading dict2css-0.3.0-py3-none-any.whl (25 kB)\n",
            "Collecting apeye-core>=1.0.0b2\n",
            "  Downloading apeye_core-1.1.2-py3-none-any.whl (99 kB)\n",
            "\u001b[2K     \u001b[90m━━━━━━━━━━━━━━━━━━━━━━━━━━━━━━━━━━━━━━━━\u001b[0m \u001b[32m99.2/99.2 kB\u001b[0m \u001b[31m5.6 MB/s\u001b[0m eta \u001b[36m0:00:00\u001b[0m\n",
            "\u001b[?25hRequirement already satisfied: platformdirs>=2.3.0 in /usr/local/lib/python3.9/dist-packages (from apeye>=0.4.0->sphinx-toolbox>=3.1.2->stockpyl) (3.2.0)\n",
            "Requirement already satisfied: soupsieve>1.2 in /usr/local/lib/python3.9/dist-packages (from beautifulsoup4>=4.9.1->sphinx-toolbox>=3.1.2->stockpyl) (2.4)\n",
            "Requirement already satisfied: msgpack>=0.5.2 in /usr/local/lib/python3.9/dist-packages (from cachecontrol[filecache]>=0.12.6->sphinx-toolbox>=3.1.2->stockpyl) (1.0.5)\n",
            "Collecting cssutils>=2.2.0\n",
            "  Downloading cssutils-2.6.0-py3-none-any.whl (399 kB)\n",
            "\u001b[2K     \u001b[90m━━━━━━━━━━━━━━━━━━━━━━━━━━━━━━━━━━━━━━━\u001b[0m \u001b[32m399.7/399.7 kB\u001b[0m \u001b[31m9.3 MB/s\u001b[0m eta \u001b[36m0:00:00\u001b[0m\n",
            "\u001b[?25hRequirement already satisfied: natsort>=7.0.1 in /usr/local/lib/python3.9/dist-packages (from domdf-python-tools>=2.9.0->sphinx-toolbox>=3.1.2->stockpyl) (8.3.1)\n",
            "Requirement already satisfied: six>=1.9 in /usr/local/lib/python3.9/dist-packages (from html5lib>=1.1->sphinx-toolbox>=3.1.2->stockpyl) (1.16.0)\n",
            "Requirement already satisfied: webencodings in /usr/local/lib/python3.9/dist-packages (from html5lib>=1.1->sphinx-toolbox>=3.1.2->stockpyl) (0.5.1)\n",
            "Requirement already satisfied: zipp>=0.5 in /usr/local/lib/python3.9/dist-packages (from importlib-metadata>=4.4->sphinx==4.5.0->stockpyl) (3.15.0)\n",
            "Requirement already satisfied: MarkupSafe>=2.0 in /usr/local/lib/python3.9/dist-packages (from Jinja2>=2.3->sphinx==4.5.0->stockpyl) (2.1.2)\n",
            "Requirement already satisfied: urllib3<1.27,>=1.21.1 in /usr/local/lib/python3.9/dist-packages (from requests>=2.5.0->sphinx==4.5.0->stockpyl) (1.26.15)\n",
            "Requirement already satisfied: certifi>=2017.4.17 in /usr/local/lib/python3.9/dist-packages (from requests>=2.5.0->sphinx==4.5.0->stockpyl) (2022.12.7)\n",
            "Requirement already satisfied: idna<4,>=2.5 in /usr/local/lib/python3.9/dist-packages (from requests>=2.5.0->sphinx==4.5.0->stockpyl) (3.4)\n",
            "Requirement already satisfied: charset-normalizer~=2.0.0 in /usr/local/lib/python3.9/dist-packages (from requests>=2.5.0->sphinx==4.5.0->stockpyl) (2.0.12)\n",
            "Collecting ruamel.yaml.clib>=0.2.6\n",
            "  Downloading ruamel.yaml.clib-0.2.7-cp39-cp39-manylinux_2_17_x86_64.manylinux2014_x86_64.manylinux_2_24_x86_64.whl (519 kB)\n",
            "\u001b[2K     \u001b[90m━━━━━━━━━━━━━━━━━━━━━━━━━━━━━━━━━━━━━━━\u001b[0m \u001b[32m519.4/519.4 kB\u001b[0m \u001b[31m8.7 MB/s\u001b[0m eta \u001b[36m0:00:00\u001b[0m\n",
            "\u001b[?25hCollecting sphinx-autodoc-typehints>=1.11.1\n",
            "  Downloading sphinx_autodoc_typehints-1.22-py3-none-any.whl (17 kB)\n",
            "  Downloading sphinx_autodoc_typehints-1.21.8-py3-none-any.whl (17 kB)\n",
            "  Downloading sphinx_autodoc_typehints-1.21.7-py3-none-any.whl (16 kB)\n",
            "  Downloading sphinx_autodoc_typehints-1.21.6-py3-none-any.whl (16 kB)\n",
            "  Downloading sphinx_autodoc_typehints-1.21.5-py3-none-any.whl (16 kB)\n",
            "  Downloading sphinx_autodoc_typehints-1.21.4-py3-none-any.whl (16 kB)\n",
            "  Downloading sphinx_autodoc_typehints-1.21.3-py3-none-any.whl (15 kB)\n",
            "  Downloading sphinx_autodoc_typehints-1.21.2-py3-none-any.whl (13 kB)\n",
            "  Downloading sphinx_autodoc_typehints-1.21.1-py3-none-any.whl (13 kB)\n",
            "  Downloading sphinx_autodoc_typehints-1.21.0-py3-none-any.whl (13 kB)\n",
            "  Downloading sphinx_autodoc_typehints-1.20.2-py3-none-any.whl (12 kB)\n",
            "  Downloading sphinx_autodoc_typehints-1.20.1-py3-none-any.whl (12 kB)\n",
            "  Downloading sphinx_autodoc_typehints-1.20.0-py3-none-any.whl (12 kB)\n",
            "  Downloading sphinx_autodoc_typehints-1.19.5-py3-none-any.whl (12 kB)\n",
            "  Downloading sphinx_autodoc_typehints-1.19.4-py3-none-any.whl (12 kB)\n",
            "  Downloading sphinx_autodoc_typehints-1.19.3-py3-none-any.whl (12 kB)\n",
            "  Downloading sphinx_autodoc_typehints-1.19.2-py3-none-any.whl (12 kB)\n",
            "  Downloading sphinx_autodoc_typehints-1.19.1-py3-none-any.whl (12 kB)\n",
            "Collecting sphinx-prompt>=1.1.0\n",
            "  Downloading sphinx_prompt-1.5.0-py3-none-any.whl (4.5 kB)\n",
            "Collecting sphinx-tabs<3.5.0,>=1.2.1\n",
            "  Downloading sphinx_tabs-3.4.0-py3-none-any.whl (10.0 kB)\n",
            "Collecting docutils<0.18,>=0.14\n",
            "  Downloading docutils-0.17.1-py2.py3-none-any.whl (575 kB)\n",
            "\u001b[2K     \u001b[90m━━━━━━━━━━━━━━━━━━━━━━━━━━━━━━━━━━━━━━\u001b[0m \u001b[32m575.5/575.5 kB\u001b[0m \u001b[31m28.6 MB/s\u001b[0m eta \u001b[36m0:00:00\u001b[0m\n",
            "\u001b[?25hCollecting Jinja2>=2.3\n",
            "  Downloading Jinja2-3.0.3-py3-none-any.whl (133 kB)\n",
            "\u001b[2K     \u001b[90m━━━━━━━━━━━━━━━━━━━━━━━━━━━━━━━━━━━━━━━\u001b[0m \u001b[32m133.6/133.6 kB\u001b[0m \u001b[31m5.2 MB/s\u001b[0m eta \u001b[36m0:00:00\u001b[0m\n",
            "\u001b[?25hInstalling collected packages: lockfile, ruamel.yaml.clib, pyproject_hooks, Jinja2, domdf-python-tools, docutils, cssutils, sphinx-jinja2-compat, sphinx, ruamel.yaml, dict2css, build, apeye-core, sphinxcontrib-jquery, sphinx-tabs, sphinx-prompt, sphinx-autodoc-typehints, autodocsumm, apeye, sphinx-toolbox, sphinx-rtd-theme, stockpyl\n",
            "  Attempting uninstall: Jinja2\n",
            "    Found existing installation: Jinja2 3.1.2\n",
            "    Uninstalling Jinja2-3.1.2:\n",
            "      Successfully uninstalled Jinja2-3.1.2\n",
            "  Attempting uninstall: docutils\n",
            "    Found existing installation: docutils 0.16\n",
            "    Uninstalling docutils-0.16:\n",
            "      Successfully uninstalled docutils-0.16\n",
            "  Attempting uninstall: sphinx\n",
            "    Found existing installation: Sphinx 3.5.4\n",
            "    Uninstalling Sphinx-3.5.4:\n",
            "      Successfully uninstalled Sphinx-3.5.4\n",
            "Successfully installed Jinja2-3.0.3 apeye-1.3.0 apeye-core-1.1.2 autodocsumm-0.2.10 build-0.10.0 cssutils-2.6.0 dict2css-0.3.0 docutils-0.17.1 domdf-python-tools-3.6.1 lockfile-0.12.2 pyproject_hooks-1.0.0 ruamel.yaml-0.17.21 ruamel.yaml.clib-0.2.7 sphinx-4.5.0 sphinx-autodoc-typehints-1.19.1 sphinx-jinja2-compat-0.2.0 sphinx-prompt-1.5.0 sphinx-rtd-theme-1.2.0 sphinx-tabs-3.4.0 sphinx-toolbox-3.4.0 sphinxcontrib-jquery-4.1 stockpyl-0.0.14\n"
          ]
        }
      ]
    },
    {
      "cell_type": "code",
      "execution_count": null,
      "metadata": {
        "id": "ytg9sReD8fRd"
      },
      "outputs": [],
      "source": [
        "# Import the packages we will need.\n",
        "import numpy as np\n",
        "import matplotlib.pyplot as plt\n",
        "from tqdm.notebook import tqdm\n",
        "from tabulate import tabulate\n",
        "from stockpyl.supply_chain_network import single_stage_system\n",
        "from stockpyl.newsvendor import newsvendor_poisson\n",
        "from stockpyl import sim"
      ]
    },
    {
      "cell_type": "markdown",
      "source": [
        "### MPNV Environment\n",
        "\n",
        "The code below creates an environment class for the MPNV. The class implements functions `reset()` and `step()` to initialize the environment and simulate one time step. \n",
        "\n",
        "* `reset()` returns the initial state of the environment\n",
        "* `step(action)` takes the action specified and returns a tuple `(new_state, reward, done)`, where `done` is a flag indicating whether the episode has terminated\n",
        "\n",
        "(If you are familiar with OpenAI `gym`, these functions will be familiar to you.)\n",
        "\n",
        "The code is missing some pieces. Your job is to fill in the missing pieces.\n",
        "\n",
        "---\n",
        "> **Note:** In the code below, the portions that you need to complete are marked with\n",
        "> \n",
        "> ```python\n",
        "> # #################\n",
        "> # TODO:\n",
        "> ```\n",
        "> \n",
        "> In place of the missing code is a line that says \n",
        "> \n",
        "> ```python\n",
        "> \traise NotImplementedError\n",
        "> ```\n",
        "> \n",
        "> This is a way of telling Python to raise an exception (error) because there's something missing here. You should **delete (or comment out) this line** after you write your code.\n",
        "\n",
        "---"
      ],
      "metadata": {
        "id": "V7Y48VMEa5SE"
      }
    },
    {
      "cell_type": "code",
      "source": [
        "class MPNVEnv(object):\n",
        "    \"\"\"Multi-period newsvendor (MPNV) problem environment. A state represents an inventory level. \n",
        "    An action is an order quantity.\n",
        "\n",
        "    Parameters\n",
        "    ----------\n",
        "    network : SupplyChainNetwork\n",
        "        The network to simulate.\n",
        "    episode_length : int\n",
        "        The number of periods in one episode.\n",
        "    min_state : int\n",
        "        The minimum value of the state space to consider.\n",
        "    max_state : int\n",
        "        The maximum value of the state space to consider.\n",
        "    \"\"\"\n",
        "\n",
        "    def __init__(self, network, episode_length: int, min_state: int, max_state: int, \\\n",
        "        gamma: float = 0.95):\n",
        "\n",
        "        # Store problem data.\n",
        "        self.network = network\n",
        "        self.episode_length = episode_length\n",
        "        self.min_state = min_state\n",
        "        self.max_state = max_state\n",
        "        self.gamma = gamma\n",
        "\n",
        "        # Build list of state and action spaces. State space is specified by min_state and max_state.\n",
        "        # Action space is the largest possible order quantity, i.e., starting with IL = min_state\n",
        "        # and ordering up to max_state.\n",
        "        self.state_space = list(range(min_state, max_state + 1))\n",
        "        self.action_space = list(range(max_state - min_state + 1))\n",
        "\n",
        "        # Start the system in state 0.\n",
        "        self.initial_state = 0\n",
        "\n",
        "        # Calculate allowable actions for each state. \n",
        "        # In state x, allowable actions are {0, ..., x_max - x}, where x_max is\n",
        "        # the upper range of the state space. \n",
        "        self.allowable_actions = {}\n",
        "        for s in self.state_space:\n",
        "            min_a = 0\n",
        "            max_a = max(self.state_space) - s\n",
        "            self.allowable_actions[s] = list(range(min_a, max_a + 1))\n",
        "\n",
        "        # Initialize current state info.\n",
        "        self.state = None\n",
        "\n",
        "        # Get a shortcut to the (single) node in the network, for convenience.\n",
        "        self.node = network.nodes[0]\n",
        "\n",
        "    def get_random_action(self, state):\n",
        "        \"\"\"Return a randomly selected action, with equal probability, for the\n",
        "        given state, chosen from the state's allowable actions.\"\"\"\n",
        "        action = np.random.choice(self.allowable_actions[state])\n",
        "        return action\n",
        "\n",
        "    def get_greedy_action(self, state, Q):\n",
        "        \"\"\"Return a greedy action, i.e., an action `a` that maximizes `Q[state, a]`.\"\"\"\n",
        "        # Set `action` to an action that maximizes `Q[state, . ]`.\n",
        "        allowable = self.allowable_actions[state]\n",
        "        a_ind = np.argmax([Q[state, a] for a in allowable])\n",
        "        action = allowable[a_ind]\n",
        "        return action\n",
        "\n",
        "    def get_epsilon_greedy_action(self, state, Q, epsilon):\n",
        "        \"\"\"Return an epsilon-greedy action, i.e., with probability epsilon choose a\n",
        "        random action from the allowable actions for the state, and with probability\n",
        "        1 - epsilon choose a greedy action for the state. i.e., an action `a` that \n",
        "        maximizes `Q[state, a]`.\"\"\"\n",
        "        # Set `action`: with probability epsilon, choose a random action, and\n",
        "        # with probability 1 - epsilon, choose a greedy action. \n",
        "        if np.random.random() < epsilon:\n",
        "            action = self.get_random_action(state)\n",
        "        else:\n",
        "            action = self.get_greedy_action(state, Q)\n",
        "   \n",
        "        return action\n",
        "\n",
        "    def get_greedy_policy(self, Q):\n",
        "        \"\"\"Return a greedy policy, i.e., in which the action `a` for every state `s`\n",
        "        maximizes `Q[state, a]`.\"\"\"\n",
        "        return {s: self.get_greedy_action(s, Q) for s in self.state_space}\n",
        "\n",
        "    def reset(self):\n",
        "        \"\"\"Reset the environment and the simulation. Set the state to the initial\n",
        "        state. Also set the corresponding attribute of the SupplyChainNode.\"\"\"\n",
        "\n",
        "        # Determine initial IL and store it in environment's state.\n",
        "        self.state = self.initial_state\n",
        "        \n",
        "        # Set node's initial IL attribute. (This will force the simulation to \n",
        "        # start with the node at this inventory level.)\n",
        "        self.node.initial_inventory_level = self.initial_state\n",
        "\n",
        "        # Reset the simulation environment.\n",
        "        sim.initialize(self.network, self.episode_length)\n",
        "\n",
        "        return self.state\n",
        "\n",
        "    def step(self, action):\n",
        "        \"\"\"Run one time step of the environment by taking the specified action.\n",
        "        Update the environment state to the new state. \n",
        "        Return a tuple (new_state, reward, done, info).\"\"\"\n",
        "        \n",
        "        # Build a dict specifying the order quantity to be used in this time\n",
        "        # period. The dict should have a single key (equal to `self.node`)\n",
        "        # and a single value (equal to the order quantity). \n",
        "        # Build dict specifying order quantity to use in this time period.\n",
        "        # (This dict will be used to override the order quantity that the \n",
        "        # stockpyl simulation would choose on its own.)\n",
        "        # IMPORTANT: If the order quantity would make the inventory level \n",
        "        # greater than `max_state`, truncate it so the inventory level equals\n",
        "        # `max_state`.\n",
        "        order_quantity = min(action, self.max_state - self.state)\n",
        "        order_quantity_override = {self.node: order_quantity}\n",
        "\n",
        "        # Simulate one time period.\n",
        "        sim.step(self.network, order_quantity_override=order_quantity_override)\n",
        "\n",
        "        # Determine reward by querying the simulation's state variables.\n",
        "        reward = -self.node.state_vars_current.total_cost_incurred\n",
        "\n",
        "        # If episode length has been reached, terminate.\n",
        "        done = self.network.period == self.episode_length - 1\n",
        "\n",
        "        # Get new inventory level from simulation. \n",
        "        # (Round to int -- should already be integer but sometimes there are small rounding errors.)\n",
        "        IL = int(self.node.state_vars_current.inventory_level)\n",
        "        # If new IL is outside the bounds of state space, truncate.\n",
        "        IL = int(np.clip(IL, self.min_state, self.max_state))\n",
        "\n",
        "        # Update state.\n",
        "        self.state = IL\n",
        "\n",
        "        # Fill the demand into the info dict.\n",
        "        info = {'demand': self.node.state_vars_current.inbound_order[None]}\n",
        "\n",
        "        # Return a tuple (new_state, reward, done, info).\n",
        "        return self.state, reward, done, info\n",
        "\n",
        "    def play_episode(self, policy, messages=False):\n",
        "        \"\"\"Play one episode of the environment following the specified policy. \n",
        "        Return the total discounted reward over the episode.\n",
        "\n",
        "        `policy` is a dict in which keys are states and values are actions.\n",
        "        If `messages` is True, will print state and action in each time step.\n",
        "        \"\"\"\n",
        "        \n",
        "        # Initialize environment.\n",
        "        self.reset()\n",
        "        cumul_reward = 0\n",
        "\n",
        "        if messages:\n",
        "            print(f\"policy = {policy}\")\n",
        "            print(f\"Initial state = {self.state}, total reward = {cumul_reward}\")\n",
        "\n",
        "        # Step through until terminal state reached.\n",
        "        for t in range(self.episode_length):\n",
        "            \n",
        "            # ############\n",
        "            # TODO: Determine action.\n",
        "            # ############\n",
        "\n",
        "            if messages:\n",
        "                print(f\"timestep {t:6} state = {self.state:4} action = {action:4} \", end=\"\")\n",
        "\n",
        "            # ############\n",
        "            # TODO: Unfold a step.\n",
        "            # ############\n",
        "            new_state, reward, done, info = self.step(action)\n",
        "\n",
        "            # Update cumulative reward.\n",
        "            cumul_reward += self.gamma**t * reward\n",
        "\n",
        "            if messages:\n",
        "                print(f\"demand = {info['demand']:4} new_state = {new_state:4} reward = {reward:8.2f} total reward = {cumul_reward:8.2f}\")\n",
        "\n",
        "        return cumul_reward\n",
        "\n",
        "    def play_episode_batch(self, policy, num_episodes):\n",
        "        \"\"\"Play `num_episodes` episode of the environment following the specified policy. \n",
        "        Return the average total discounted reward over all episodes.\n",
        "\n",
        "        `policy` is a dict in which keys are states and values are actions.\n",
        "        If `messages` is True, will print state and action in each time step.\"\"\"\n",
        "\n",
        "        avg_total_reward = 0\n",
        "        for _ in range(num_episodes):\n",
        "            self.reset()\n",
        "            total_reward = self.play_episode(policy, messages=False)\n",
        "            avg_total_reward += total_reward / num_episodes\n",
        "\n",
        "        return avg_total_reward"
      ],
      "metadata": {
        "id": "fyiDsHkocwa0"
      },
      "execution_count": null,
      "outputs": []
    },
    {
      "cell_type": "markdown",
      "source": [
        "The next function plots a given policy in two ways: order quantity vs. inventory level and order-up-to level (= inventory level + order quantity) vs. inventory level."
      ],
      "metadata": {
        "id": "p09GZHyg_wuu"
      }
    },
    {
      "cell_type": "code",
      "source": [
        "def plot_policy(env: MPNVEnv, policy: dict, title: str = None):\n",
        "    \"\"\"Plot the policy.\n",
        "\n",
        "    Parameters\n",
        "    ----------\n",
        "    pi : \n",
        "        Probability distribution for a policy. A dict whose keys are states and\n",
        "        whose values are actions. (Note that this is a different structure\n",
        "        than what was used in the \"MPNV as MDP\" notebook.)\n",
        "    title : \n",
        "        Optional title for the figure.\n",
        "    \"\"\"\n",
        "\n",
        "    fig = plt.figure(figsize=plt.figaspect(1/2))\n",
        "    fig.suptitle(title)\n",
        "\n",
        "    # Order quantity plot.\n",
        "    ax = plt.subplot(121)\n",
        "    x_list = env.state_space\n",
        "    y_list = [policy[x] for x in x_list]\n",
        "    plt.plot(x_list, y_list)\n",
        "    plt.xlabel('Starting Inventory Level')\n",
        "    plt.ylabel('Order Quantity')\n",
        "\n",
        "    # Order-up-to level plot.\n",
        "    ax = plt.subplot(122)\n",
        "    y_list = [x + policy[x] for x in x_list]\n",
        "    plt.plot(x_list, y_list)\n",
        "    plt.xlabel('Starting Inventory Level')\n",
        "    plt.ylabel('Order-Up-To Level')\n",
        "\n",
        "    plt.show()\n",
        "\n"
      ],
      "metadata": {
        "id": "P19CPSZkvbze"
      },
      "execution_count": null,
      "outputs": []
    },
    {
      "cell_type": "markdown",
      "source": [
        "### Tabular RL\n",
        "\n",
        "Now our goal is to implement one or more tabular RL algorithms and apply them to the MPNV environment you built above.\n",
        "\n",
        "---\n",
        "> At this point you have three choices:\n",
        "> 1. Plug in tabular RL code that you wrote earlier in the workshop or at some other point.\n",
        "> 2. Use RL code from an external Python package or repo.\n",
        "> 3. Use my RL code that is already pasted below.\n",
        ">\n",
        "> If you go with option 1 or 2, your tabular algorithm must be able to interact with the `MPNVEnv` class you built above. In particular, it should call the `reset()` and `step()` functions to initialize the environment and to take one step through the simulation. (This is a pretty standard API structure, and many RL codes use it.) Your code can also access other features we built into the `MPNVEnv` class, such as `allowable_actions`, `get_epsilon_greedy_action()`, etc., but that is optional.\n",
        ">\n",
        "> Option 3 is probably the simplest, since the work is already done. However, my RL code is extremely no-frills; it is not as robust or efficient as many existing RL implementations. \n",
        "---\n",
        "\n",
        "Here is my tabular RL code:"
      ],
      "metadata": {
        "id": "ALSyN7pu_z2h"
      }
    },
    {
      "cell_type": "code",
      "source": [
        "class TabularRL():\n",
        "    \"\"\"Class for tabular reinforcement learning for MPNV problem. (The code is fairly generic, but it assumes\n",
        "    data structures and state/action encodings that are specific to the MPNV.)\n",
        "    \"\"\"\n",
        "    def __init__(self, env: MPNVEnv = None):\n",
        "        self.env = env\n",
        "\n",
        "    def sarsa(self,\n",
        "            num_episodes: int,\n",
        "            initial_Q: dict = None,\n",
        "            epsilon: float = 0.1,\n",
        "            step_size: float = 0.5,     # alpha\n",
        "            progress_bar: bool = True,\n",
        "            messages: bool = False\n",
        "        ):\n",
        "        \"\"\"Sarsa (on-policy control) for estimating Q ~ q_* (Sutton and Barto, Section 6.5, p. 130.).\n",
        "        Returns Q and the final policy.\"\"\"\n",
        "        \n",
        "        # Initialize.\n",
        "        Q = initial_Q if initial_Q else \\\n",
        "            {(s, a): 0 for s in self.env.state_space for a in self.env.allowable_actions[s]}\n",
        "\n",
        "        # Intialize progress bar.\n",
        "        pbar = tqdm(total=num_episodes, disable=not progress_bar)\n",
        "\n",
        "        # Loop through episodes.\n",
        "        for _ in range(num_episodes):\n",
        "\n",
        "            # Update progress bar.\n",
        "            pbar.update()\n",
        "\n",
        "            # Reset the environment and get first action.\n",
        "            S = self.env.reset()\n",
        "            A = self.env.get_epsilon_greedy_action(S, Q, epsilon)\n",
        "\n",
        "            # Loop through time steps.\n",
        "            \n",
        "            # #############\n",
        "            # TODO: Implement SARSA\n",
        "            # #############\n",
        "\n",
        "        return Q, self.env.get_greedy_policy(Q)\n",
        "\n",
        "    def Q_learning(self,\n",
        "            num_episodes: int,\n",
        "            initial_Q: dict = None,\n",
        "            epsilon: float = 0.1,\n",
        "            step_size: float = 0.5,     # alpha\n",
        "            progress_bar: bool = True,\n",
        "            messages: bool = False,\n",
        "            test_freq: int = None,\n",
        "            test_episodes: int = None\n",
        "        ):\n",
        "        \"\"\"Q-learning (off-policy control) for estimating pi ~ pi_* (Section 6.5, p. 130.).\n",
        "        Returns Q and the final policy.\n",
        "        \n",
        "        If ``test_freq`` is not None, the current policy is tested every ``test_freq`` episodes by\n",
        "        running ``test_epidodes`` episodes and printing the average reward. (This is mostly for \n",
        "        tracking the progress of the training while it's going on.)\n",
        "        \"\"\"\n",
        "        \n",
        "        # Initialize.\n",
        "        Q = initial_Q if initial_Q else \\\n",
        "            {(s, a): 0 for s in self.env.state_space for a in self.env.allowable_actions[s]}\n",
        "\n",
        "        # Intialize progress bar.\n",
        "        pbar = tqdm(total=num_episodes, disable=not progress_bar)\n",
        "\n",
        "        # Loop through episodes.\n",
        "        for ep in range(num_episodes):\n",
        "\n",
        "            # Update progress bar.\n",
        "            pbar.update()\n",
        "\n",
        "            # Test.\n",
        "            if test_freq and ep % test_freq == 0:\n",
        "                pol = self.env.get_greedy_policy(Q)\n",
        "                avg_reward = self.env.play_episode_batch(policy=pol, num_episodes=test_episodes)\n",
        "                tqdm.write(f\"Training episode {ep:8d}, ran {test_episodes} episodes, average reward per episode = {avg_reward:8.4f}\")\n",
        "\n",
        "            # Reset the environment.\n",
        "            S = self.env.reset()\n",
        "\n",
        "            # Loop through time steps.\n",
        "            done = False\n",
        "            while not done:\n",
        "\n",
        "                # Choose action.\n",
        "                A = self.env.get_epsilon_greedy_action(S, Q, epsilon)\n",
        "\n",
        "                # Take action.\n",
        "                S_prime, R, done, info = self.env.step(A)\n",
        "\n",
        "                # Update Q.\n",
        "                max_Q = max([Q[S_prime, a] for a in self.env.allowable_actions[S_prime]])\n",
        "                Q[S, A] += step_size * (R + self.env.gamma * max_Q - Q[S, A])\n",
        "\n",
        "                if messages:\n",
        "                    print(f\"S = {S} A = {A} R = {R} S' = {S_prime} max_Q = {max_Q}\")\n",
        "\n",
        "                # Update S.\n",
        "                S = S_prime\n",
        "\n",
        "        return Q, self.env.get_greedy_policy(Q)\n",
        "\n",
        "\n",
        "    def double_Q_learning(self,\n",
        "            num_episodes: int,\n",
        "            initial_Q1: dict = None,\n",
        "            initial_Q2: dict = None,\n",
        "            epsilon: float = 0.1,\n",
        "            step_size: float = 0.5,     # alpha\n",
        "            progress_bar: bool = True,\n",
        "            messages: bool = False\n",
        "        ):\n",
        "        \"\"\"Double Q-learning for estimating Q_1 ~ Q_2 ~ q_* (Section 6.7, p. 136.).\n",
        "        Returns Q and the final policy.\n",
        "        \"\"\"\n",
        "        \n",
        "        # Initialize.\n",
        "        Q1 = initial_Q1 if initial_Q1 else \\\n",
        "            {(s, a): 0 for s in self.env.state_space for a in self.env.allowable_actions[s]}\n",
        "        Q2 = initial_Q2 if initial_Q2 else \\\n",
        "            {(s, a): 0 for s in self.env.state_space for a in self.env.allowable_actions[s]}\n",
        "\n",
        "        # Intialize progress bar.\n",
        "        pbar = tqdm(total=num_episodes, disable=not progress_bar)\n",
        "\n",
        "        # Loop through episodes.\n",
        "        for _ in range(num_episodes):\n",
        "\n",
        "            # Update progress bar.\n",
        "            pbar.update()\n",
        "\n",
        "            # Choose initial state.\n",
        "            S = self.env.get_initial_state()\n",
        "\n",
        "            # Reset the environment.\n",
        "            self.env.reset()\n",
        "\n",
        "            # Loop through time steps.\n",
        "            done = False\n",
        "            while not done:\n",
        "\n",
        "                # Choose action.\n",
        "                Q_sum = {(s, a): Q1[s, a] + Q2[s, a] for s, a in Q1.keys()}\n",
        "                A = self.env.get_epsilon_greedy_action(S, Q_sum, epsilon)\n",
        "\n",
        "                # Take action.\n",
        "                S_prime, R, done, info = self.env.step(A)\n",
        "\n",
        "                # Update Q.\n",
        "                if np.random.random() < 0.5:\n",
        "                    # Get a that maximizes Q1[S', a].\n",
        "                    Q_S_prime = {a: Q1[S_prime, a] for a in self.env.allowable_actions[S_prime]}\n",
        "                    argmax_Q = max(Q_S_prime, key=Q_S_prime.get)\n",
        "                    Q1[S, A] += step_size * (R + self.env.gamma * Q2[S_prime, argmax_Q] - Q1[S, A])\n",
        "                else:\n",
        "                    Q_S_prime = {a: Q2[S_prime, a] for a in self.env.allowable_actions[S_prime]}\n",
        "                    argmax_Q = max(Q_S_prime, key=Q_S_prime.get)\n",
        "                    Q2[S, A] += step_size * (R + self.env.gamma * Q1[S_prime, argmax_Q] - Q2[S, A])\n",
        "\n",
        "                if messages:\n",
        "                    print(f\"S = {S} A = {A} R = {R} S' = {S_prime} argmax_Q = {argmax_Q}\")\n",
        "\n",
        "                # Update S.\n",
        "                S = S_prime\n",
        "            \n",
        "        Q_sum = {(s, a): Q1[s, a] + Q2[s, a] for s, a in Q1.keys()}\n",
        "        return Q_sum, self.env.get_greedy_policy(Q_sum)\n",
        "\n",
        "        "
      ],
      "metadata": {
        "id": "NKnNvRQGvd_u"
      },
      "execution_count": null,
      "outputs": []
    },
    {
      "cell_type": "markdown",
      "source": [
        "### MPNV Instance\n",
        "\n",
        "Let's use the same instance we used in the \"MPNV as MDP\" notebook:\n",
        "\n",
        "* $h = 1$\n",
        "* $p = 10$\n",
        "* $\\mu = 5$\n",
        "\n"
      ],
      "metadata": {
        "id": "zJj8KeyiVyn2"
      }
    },
    {
      "cell_type": "code",
      "source": [
        "# Build stockpyl SupplyChainNetwork object.\n",
        "network = single_stage_system(\n",
        "    local_holding_cost=1,\n",
        "    stockout_cost=10,\n",
        "    demand_type='P',\n",
        "    mean=5,\n",
        "    shipment_lead_time=0    # this is necessary to convert between our sequence of events and stockpyl's\n",
        ")"
      ],
      "metadata": {
        "id": "VoLvgiEuvyUu"
      },
      "execution_count": null,
      "outputs": []
    },
    {
      "cell_type": "markdown",
      "source": [
        "In the MDP notebook, we set the state space limits to $[-15, 20]$. Here we'll use a narrow range in order to help the RL agent train more quickly:"
      ],
      "metadata": {
        "id": "cUcqFZ8FWagc"
      }
    },
    {
      "cell_type": "code",
      "source": [
        "min_state = -5\n",
        "max_state = 14"
      ],
      "metadata": {
        "id": "IRqXIvULW21d"
      },
      "execution_count": null,
      "outputs": []
    },
    {
      "cell_type": "markdown",
      "source": [
        "Below are the training and testing parameters."
      ],
      "metadata": {
        "id": "2u55g2hxXKmS"
      }
    },
    {
      "cell_type": "code",
      "source": [
        "episode_length = 500\n",
        "num_training_episodes = 2000\n",
        "num_testing_episodes = 100\n",
        "in_training_test_freq = 1000\n",
        "in_training_test_episodes = 100\n",
        "trl_epsilon = 0.05\n",
        "trl_step_size = 0.1"
      ],
      "metadata": {
        "id": "I0o-umG2vp-J"
      },
      "execution_count": null,
      "outputs": []
    },
    {
      "cell_type": "markdown",
      "source": [
        "Next let's build the `MPNVEnv` and `TDLearning` objects."
      ],
      "metadata": {
        "id": "XESXIFZMXbg7"
      }
    },
    {
      "cell_type": "code",
      "source": [
        "# Build MPNVEnv object.\n",
        "env = MPNVEnv(\n",
        "    network=network,\n",
        "    episode_length=episode_length,\n",
        "    min_state=min_state,\n",
        "    max_state=max_state,\n",
        "    gamma=0.95\n",
        ")"
      ],
      "metadata": {
        "id": "t_V7n7b4v0Ju"
      },
      "execution_count": null,
      "outputs": []
    },
    {
      "cell_type": "code",
      "source": [
        "# Build tabular RL object.\n",
        "trl = TabularRL(env)"
      ],
      "metadata": {
        "id": "TImGPz3iv2w4"
      },
      "execution_count": null,
      "outputs": []
    },
    {
      "cell_type": "markdown",
      "source": [
        "### Training\n",
        "\n",
        "Let's train the RL agent! If you used my tabular RL code, you can choose either the `sarsa()`, `Q_learning()`, or `double_Q_learning()` functions. If you used your own code, plug in the appropriate call here.\n",
        "\n",
        "This will take several minutes (or more, depending on your settings) to execute."
      ],
      "metadata": {
        "id": "rv0Crh5VXygx"
      }
    },
    {
      "cell_type": "code",
      "source": [
        "# Run tabular RL algorithm.\n",
        "#\tQ, pol = td.sarsa(\n",
        "Q, pol = trl.Q_learning(\n",
        "#\tQ, pol = td.double_Q_learning(\n",
        "    num_episodes=num_training_episodes,\n",
        "    epsilon=trl_epsilon,\n",
        "    step_size=trl_step_size,\n",
        "    progress_bar=True,\n",
        "    messages=False,\n",
        "    test_freq=in_training_test_freq,\n",
        "    test_episodes=in_training_test_episodes\n",
        ")"
      ],
      "metadata": {
        "colab": {
          "base_uri": "https://localhost:8080/",
          "height": 83,
          "referenced_widgets": [
            "ef29c224019e42f9b2e45c054cc5c533",
            "465f03fe7e7b417cb29334f3ce19b507",
            "75d3924a968d47b8a3afac95806fb85e",
            "1b0ffcfc816a46a99abc9af5538180af",
            "de376eeda93b4d7596db6b06cfffb222",
            "24170034d8694830801df1020d53e089",
            "684285a822464c36b45ca1afdbb37eca",
            "679b5f0b08384596b451d0ddd6454f88",
            "55bb817df44b4c8f932871bd07ae5dae",
            "94c370f5cf944d01887f3a6d5b3a7941",
            "3bae1b449a32436885bd7bce298f241b"
          ]
        },
        "id": "gp2Izr-Hv6MC",
        "outputId": "41a95a1a-92cd-4a9d-f8e1-0ae7f26d1895"
      },
      "execution_count": null,
      "outputs": [
        {
          "output_type": "display_data",
          "data": {
            "text/plain": [
              "  0%|          | 0/2000 [00:00<?, ?it/s]"
            ],
            "application/vnd.jupyter.widget-view+json": {
              "version_major": 2,
              "version_minor": 0,
              "model_id": "ef29c224019e42f9b2e45c054cc5c533"
            }
          },
          "metadata": {}
        },
        {
          "output_type": "stream",
          "name": "stdout",
          "text": [
            "Training episode        0, ran 100 episodes, average reward per episode = -19718.4884\n",
            "Training episode     1000, ran 100 episodes, average reward per episode = -102.8904\n"
          ]
        }
      ]
    },
    {
      "cell_type": "markdown",
      "source": [
        "### Exploring the Results\n",
        "\n",
        "We'll plot the policy below. Remember that we're hoping to see a **base-stock policy,** which will be evident if the plot on the left (order quantity vs. inventory level) should decrease linearly with a slope of $-1$ until it flattens out at $y=0$; and the plot on the right (order-up-to level vs. inventory level) should be flat at first and then increase linearly with a slope of $1$."
      ],
      "metadata": {
        "id": "U3CYnAB6Y_Z3"
      }
    },
    {
      "cell_type": "code",
      "source": [
        "# Plot policy.\n",
        "title=f\"{num_training_episodes} training episodes, {num_testing_episodes} testing episodes, {episode_length} periods per episode\"\n",
        "plot_policy(env=env, policy=pol, title=title)\n"
      ],
      "metadata": {
        "id": "AbzPygPXwI3G",
        "colab": {
          "base_uri": "https://localhost:8080/",
          "height": 497
        },
        "outputId": "7aab0c2f-2b0f-409c-fffe-0d09b4da58cb"
      },
      "execution_count": null,
      "outputs": [
        {
          "output_type": "display_data",
          "data": {
            "text/plain": [
              "<Figure size 960x480 with 2 Axes>"
            ],
            "image/png": "[encoded data removed]"
          },
          "metadata": {}
        }
      ]
    },
    {
      "cell_type": "markdown",
      "source": [
        "If your RL agent performed similarly to mine, the plot is base-stock-ish, but not quite a base-stock policy. That's OK—we did a quicky and dirty training. More careful and longer training will result in a more accurate solution."
      ],
      "metadata": {
        "id": "58HFaSvlZbFP"
      }
    },
    {
      "cell_type": "markdown",
      "source": [
        "---\n",
        "> If you wish, play around with the hyperparameters to try to improve the training process.\n",
        "---"
      ],
      "metadata": {
        "id": "NVHiY9S_ZrBR"
      }
    },
    {
      "cell_type": "markdown",
      "source": [
        "Let's also test the policy by playing a batch of episodes."
      ],
      "metadata": {
        "id": "ckQmaMgAYr1Y"
      }
    },
    {
      "cell_type": "code",
      "source": [
        "# Test policy.\n",
        "avg_reward = env.play_episode_batch(pol, num_testing_episodes)\n",
        "print(f\"Average reward per episode = {avg_reward}\")\n"
      ],
      "metadata": {
        "colab": {
          "base_uri": "https://localhost:8080/",
          "height": 34
        },
        "id": "XmS_k4gQwAZk",
        "outputId": "63076a0e-aea7-4524-bb61-048b2f13ef04"
      },
      "execution_count": null,
      "outputs": [
        {
          "output_type": "stream",
          "name": "stdout",
          "text": [
            "Average reward per episode = -99.51271979820933\n"
          ]
        }
      ]
    },
    {
      "cell_type": "markdown",
      "source": [
        "Recall that the problem can be solved analytically. Let's compare the RL agent's solution with the analytical solution. The code below reports both the optimal expected cost per period and the corresponding expected discount cost over the horizon. \n",
        "\n",
        "The expected discounted horizon cost calculation uses the fact that, as in the \"MPNV as MAB\" notebook, we can convert an expected cost per period, $g$, to an expected discounte cost over $T$ time periods, as follows:\n",
        "\n",
        "$$\\sum_{t=0}^{T-1} g\\gamma^i = g\\frac{1 - \\gamma^{T}}{1-\\gamma}$$\n"
      ],
      "metadata": {
        "id": "P0VjbU7kYyFC"
      }
    },
    {
      "cell_type": "code",
      "source": [
        "# Compare to analytical solution.\n",
        "n = network.nodes[0]\n",
        "opt_S, opt_cost = newsvendor_poisson(\n",
        "    holding_cost=n.local_holding_cost,\n",
        "    stockout_cost=n.stockout_cost,\n",
        "    demand_mean=n.demand_source.mean\n",
        ")\n",
        "exp_disc_cost = opt_cost * (1 - env.gamma**episode_length) / (1 - env.gamma)\n",
        "print(f\"Optimal base-stock level = {opt_S} with expected cost per period = {opt_cost:.4f} and expected discounted horizon cost {exp_disc_cost:.4f}\")\n"
      ],
      "metadata": {
        "colab": {
          "base_uri": "https://localhost:8080/"
        },
        "id": "NKjIJ4nVwBMm",
        "outputId": "8b7ef939-10ad-40f0-a13a-0fa4f668c73b"
      },
      "execution_count": null,
      "outputs": [
        {
          "output_type": "stream",
          "name": "stdout",
          "text": [
            "Optimal base-stock level = 8.0 with expected cost per period = 4.3432 and expected discounted horizon cost 86.8640\n"
          ]
        }
      ]
    },
    {
      "cell_type": "markdown",
      "source": [
        "We can also simulate the system using `stockpyl` to get an average cost per period."
      ],
      "metadata": {
        "id": "aUKL4fxz9FpA"
      }
    },
    {
      "cell_type": "code",
      "source": [
        "# Simulate system. \n",
        "# First we have to specify the inventory policy that the node\n",
        "# should use (base-stock with base-stock level 8).\n",
        "from stockpyl.policy import Policy\n",
        "network.nodes[0].inventory_policy = Policy(type='BS', base_stock_level=opt_S, node=network.nodes[0])\n",
        "# Next, we have to implement a small tweak to account for a difference between\n",
        "# our sequence of events and stockpyl's.\n",
        "network.nodes[0].shipment_lead_time = 1\n",
        "# Now do the simulation.\n",
        "avg_sim_cost, _ = sim.run_multiple_trials(network, 10, 1000, progress_bar=False)\n",
        "print(f\"Average cost per period is {avg_sim_cost:4f}\")"
      ],
      "metadata": {
        "colab": {
          "base_uri": "https://localhost:8080/"
        },
        "id": "NZaoAPRy9E33",
        "outputId": "dd79462b-b73e-45a8-c808-37c1532c8ea1"
      },
      "execution_count": null,
      "outputs": [
        {
          "output_type": "stream",
          "name": "stdout",
          "text": [
            "Average cost per period is 4.403500\n"
          ]
        }
      ]
    },
    {
      "cell_type": "markdown",
      "source": [
        "To summarize:"
      ],
      "metadata": {
        "id": "yhRQ2hmLEMf0"
      }
    },
    {
      "cell_type": "code",
      "source": [
        "print(tabulate([\n",
        "    [\"Optimal base-stock level\", opt_S],\n",
        "    [\"Average discounted reward per episode from environment play()\", avg_reward],\n",
        "    [\"Optimal expected discounted reward per episode\", exp_disc_cost],\n",
        "    [\"Optimal expected cost per period\", opt_cost],\n",
        "    [\"Simulated average cost per period\", avg_sim_cost]\n",
        "]))"
      ],
      "metadata": {
        "id": "gtSPG04I81GN",
        "colab": {
          "base_uri": "https://localhost:8080/"
        },
        "outputId": "50df11ec-a767-4bc2-9cb8-adef4c1a9d23"
      },
      "execution_count": null,
      "outputs": [
        {
          "output_type": "stream",
          "name": "stdout",
          "text": [
            "-------------------------------------------------------------  --------\n",
            "Optimal base-stock level                                         8\n",
            "Average discounted reward per episode from environment play()  -99.5127\n",
            "Optimal expected discounted reward per episode                  86.864\n",
            "Optimal expected cost per period                                 4.3432\n",
            "Simulated average cost per period                                4.4035\n",
            "-------------------------------------------------------------  --------\n"
          ]
        }
      ]
    },
    {
      "cell_type": "markdown",
      "source": [
        "### If You Have Extra Time\n",
        "\n",
        "As in the \"MPNV as MDP\" notebook, try adding a fixed cost $K$ to the environment. Train the RL algorithm using the same instance as before, plus $K=20$. Check whether the RL agent learned to follow an $(s,S)$ policy. \n",
        "\n",
        "Also use `stockpyl` to find the optimal $s$ and $S$, via the `s_s_discrete_exact()` function (see documentation [here](https://stockpyl.readthedocs.io/en/latest/api/seio/ss.html#stockpyl.ss.s_s_discrete_exact)). In particular, the following code solves the $(s,S)$ problem for a Poisson distribution with mean `mu`:\n",
        "\n",
        "```python\n",
        "from stockpyl.ss import s_s_discrete_exact\n",
        "s, S, cost = s_s_discrete_exact(holding_cost=h, stockout_cost=p, fixed_cost=K, use_poisson=True, demand_mean=mu)\n",
        "```\n",
        "\n",
        "(Unfortunately, `stockpyl` cannot (yet) handle fixed costs in the simulation, so you can't simulate this system.)\n",
        "\n"
      ],
      "metadata": {
        "id": "wZjvMPx0AntA"
      }
    },
    {
      "cell_type": "markdown",
      "source": [
        "---\n",
        "\n",
        "Or: Suppose we have a finite time horizon, e.g., $T$ periods. We know that the optimal policy is a base-stock policy, and the base-stock levels are the parameters of that policy. Typically, those parameters are set using DP, but why not try out some policy gradient methods, like those that you implemented earlier in the workshop?"
      ],
      "metadata": {
        "id": "IXGVXcCkRi3G"
      }
    },
    {
      "cell_type": "code",
      "source": [],
      "metadata": {
        "id": "PefhsuheAoL1"
      },
      "execution_count": null,
      "outputs": []
    }
  ]
}